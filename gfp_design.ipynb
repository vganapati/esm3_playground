{
 "cells": [
  {
   "cell_type": "code",
   "execution_count": 3,
   "id": "46f9e116-ea1a-4167-aadc-f4d7e583bc1a",
   "metadata": {
    "tags": []
   },
   "outputs": [],
   "source": [
    "import biotite.sequence as seq\n",
    "import biotite.sequence.align as align\n",
    "import biotite.sequence.graphics as graphics\n",
    "from getpass import getpass\n",
    "import matplotlib.pyplot as pl\n",
    "import py3Dmol\n",
    "import torch\n",
    "\n",
    "from esm.sdk import client\n",
    "from esm.sdk.api import ESM3InferenceClient, ESMProtein, GenerationConfig\n",
    "from esm.utils.structure.protein_chain import ProteinChain\n",
    "from esm.models.esm3 import ESM3\n"
   ]
  },
  {
   "cell_type": "code",
   "execution_count": 4,
   "id": "dfb90b73-0782-463b-9210-9e7cc0f49162",
   "metadata": {
    "tags": []
   },
   "outputs": [
    {
     "name": "stderr",
     "output_type": "stream",
     "text": [
      "/global/cfs/cdirs/m4734/users/vidyagan/esm_env/lib/python3.12/site-packages/transformers/tokenization_utils_base.py:1617: FutureWarning: `clean_up_tokenization_spaces` was not set. It will be set to `True` by default. This behavior will be deprecated in transformers v4.45, and will be then set to `False` by default. For more details check this issue: https://github.com/huggingface/transformers/issues/31884\n",
      "  warnings.warn(\n"
     ]
    },
    {
     "data": {
      "application/vnd.jupyter.widget-view+json": {
       "model_id": "048ec474a3e34b11a480e3a628aed1ad",
       "version_major": 2,
       "version_minor": 0
      },
      "text/plain": [
       "Fetching 22 files:   0%|          | 0/22 [00:00<?, ?it/s]"
      ]
     },
     "metadata": {},
     "output_type": "display_data"
    },
    {
     "name": "stderr",
     "output_type": "stream",
     "text": [
      "/global/cfs/cdirs/m4734/users/vidyagan/esm_env/lib/python3.12/site-packages/esm/pretrained.py:68: FutureWarning: You are using `torch.load` with `weights_only=False` (the current default value), which uses the default pickle module implicitly. It is possible to construct malicious pickle data which will execute arbitrary code during unpickling (See https://github.com/pytorch/pytorch/blob/main/SECURITY.md#untrusted-models for more details). In a future release, the default value for `weights_only` will be flipped to `True`. This limits the functions that could be executed during unpickling. Arbitrary objects will no longer be allowed to be loaded via this mode unless they are explicitly allowlisted by the user via `torch.serialization.add_safe_globals`. We recommend you start setting `weights_only=True` for any use case where you don't have full control of the loaded file. Please open an issue on GitHub for any issues related to this experimental feature.\n",
      "  state_dict = torch.load(\n"
     ]
    }
   ],
   "source": [
    "model =  ESM3.from_pretrained(\"esm3_sm_open_v1\", device=torch.device(\"cuda\"))"
   ]
  },
  {
   "cell_type": "code",
   "execution_count": 5,
   "id": "7c864ddb-bfe1-4e5c-84d5-e1fb0c96fc51",
   "metadata": {
    "tags": []
   },
   "outputs": [
    {
     "name": "stderr",
     "output_type": "stream",
     "text": [
      "/global/cfs/cdirs/m4734/users/vidyagan/esm_env/lib/python3.12/site-packages/esm/pretrained.py:29: FutureWarning: You are using `torch.load` with `weights_only=False` (the current default value), which uses the default pickle module implicitly. It is possible to construct malicious pickle data which will execute arbitrary code during unpickling (See https://github.com/pytorch/pytorch/blob/main/SECURITY.md#untrusted-models for more details). In a future release, the default value for `weights_only` will be flipped to `True`. This limits the functions that could be executed during unpickling. Arbitrary objects will no longer be allowed to be loaded via this mode unless they are explicitly allowlisted by the user via `torch.serialization.add_safe_globals`. We recommend you start setting `weights_only=True` for any use case where you don't have full control of the loaded file. Please open an issue on GitHub for any issues related to this experimental feature.\n",
      "  state_dict = torch.load(\n",
      "/global/cfs/cdirs/m4734/users/vidyagan/esm_env/lib/python3.12/site-packages/esm/models/vqvae.py:289: FutureWarning: `torch.cuda.amp.autocast(args...)` is deprecated. Please use `torch.amp.autocast('cuda', args...)` instead.\n",
      "  with torch.no_grad(), torch.cuda.amp.autocast(enabled=False):  # type: ignore\n"
     ]
    },
    {
     "name": "stdout",
     "output_type": "stream",
     "text": [
      "Sequence tokens:\n",
      "     0, 15, 6, 9, 9, 4, 18, 11, 6, 7, 7, 14, 12, 4, 7, 9, 4, 13, 6, 13, 7, 17, 6, 21, 15, 18, 8, 7, 8, 6, 9, 6, 9, 6, 13, 5, 11, 19, 6, 15, 4, 11, 4, 15, 18, 12, 23, 11, 11, 6, 15, 4, 14, 7, 14, 22, 14, 11, 4, 7, 11, 11, 4, 11, 19, 6, 7, 16, 23, 18, 8, 10, 19, 14, 13, 21, 20, 15, 16, 21, 13, 18, 18, 15, 8, 5, 20, 14, 9, 6, 19, 7, 16, 9, 5, 11, 12, 8, 18, 15, 13, 13, 6, 17, 19, 15, 11, 10, 5, 9, 7, 15, 18, 9, 6, 13, 11, 4, 7, 17, 10, 12, 9, 4, 15, 6, 12, 13, 18, 15, 9, 13, 6, 17, 12, 4, 6, 21, 15, 4, 9, 19, 17, 19, 17, 8, 21, 17, 7, 19, 12, 11, 5, 13, 15, 16, 15, 17, 6, 12, 15, 5, 17, 18, 15, 12, 10, 21, 17, 12, 9, 13, 6, 8, 7, 16, 4, 5, 13, 21, 19, 16, 16, 17, 11, 14, 12, 6, 13, 6, 14, 7, 4, 4, 14, 13, 17, 21, 19, 4, 8, 11, 16, 8, 5, 4, 8, 15, 13, 14, 17, 9, 15, 10, 13, 21, 20, 7, 4, 4, 9, 18, 7, 11, 5, 5, 6, 12, 2\n",
      "Structure tokens:\n",
      "     4098, 2221, 3124, 1129, 3395, 3019, 1645, 2037, 2490, 60, 1591, 3819, 457, 2708, 383, 2219, 653, 2545, 2984, 3370, 66, 608, 2410, 103, 178, 3356, 2166, 1443, 1177, 1343, 616, 2733, 633, 2580, 2274, 552, 3604, 2490, 1128, 3686, 634, 4070, 2594, 2239, 2557, 1230, 3972, 1894, 2756, 1862, 2583, 4009, 584, 1595, 2293, 2370, 1774, 732, 1797, 748, 3403, 2370, 2582, 3704, 2737, 3007, 1660, 499, 484, 2202, 2786, 3034, 2978, 3915, 335, 2839, 2147, 3876, 959, 2387, 3572, 1203, 3279, 3432, 1203, 2136, 1471, 288, 4040, 1344, 1199, 3152, 836, 1066, 35, 2372, 2722, 2875, 597, 2296, 1474, 3228, 3080, 1216, 3885, 4030, 2670, 988, 2624, 3376, 2643, 2802, 4087, 3425, 497, 1805, 647, 3677, 3824, 1460, 2415, 1346, 1813, 2885, 1692, 2575, 1892, 2741, 2895, 1161, 3643, 2983, 3168, 2196, 1110, 2582, 3789, 3281, 4038, 47, 2105, 3430, 464, 3257, 1400, 12, 2543, 3445, 3360, 3471, 558, 2690, 2800, 4047, 1295, 3607, 370, 914, 583, 633, 580, 3178, 1872, 1942, 2369, 2488, 3370, 986, 2935, 1177, 2549, 3638, 497, 2785, 633, 426, 3376, 3853, 986, 2259, 2648, 309, 178, 3374, 1832, 2867, 2960, 1392, 1701, 303, 2168, 678, 1743, 1839, 3454, 2816, 3017, 1452, 1239, 3667, 3002, 3081, 2567, 1092, 709, 354, 1237, 780, 3715, 137, 3211, 1339, 137, 605, 3088, 4045, 2478, 2943, 622, 2943, 2081, 3436, 1223, 3170, 1192, 1752, 1552, 2650, 4097\n"
     ]
    }
   ],
   "source": [
    "template_gfp = ESMProtein.from_protein_chain(\n",
    "    ProteinChain.from_rcsb(\"1qy3\", chain_id=\"A\")\n",
    ")\n",
    "\n",
    "template_gfp_tokens = model.encode(template_gfp)\n",
    "\n",
    "print(\"Sequence tokens:\")\n",
    "print(\"    \", \", \".join([\n",
    "    str(token) for token in template_gfp_tokens.sequence.tolist()\n",
    "]))\n",
    "\n",
    "print(\"Structure tokens:\")\n",
    "print(\"    \", \", \".join([\n",
    "    str(token) for token in template_gfp_tokens.structure.tolist()\n",
    "]))"
   ]
  },
  {
   "cell_type": "code",
   "execution_count": 6,
   "id": "17a492de-6470-4724-9173-9cfabd83e716",
   "metadata": {
    "tags": []
   },
   "outputs": [
    {
     "name": "stdout",
     "output_type": "stream",
     "text": [
      "229\n",
      "229\n"
     ]
    }
   ],
   "source": [
    "print(len(template_gfp_tokens.sequence.tolist()))\n",
    "print(len(template_gfp_tokens.structure.tolist()))"
   ]
  },
  {
   "cell_type": "code",
   "execution_count": 7,
   "id": "f94c0018-8e15-420d-8709-09aac378c59c",
   "metadata": {
    "tags": []
   },
   "outputs": [
    {
     "name": "stdout",
     "output_type": "stream",
     "text": [
      "KGEELFTGVVPILVELDGDVNGHKFSVSGEGEGDATYGKLTLKFICTTGKLPVPWPTLVTTLTYGVQCFSRYPDHMKQHDFFKSAMPEGYVQEATISFKDDGNYKTRAEVKFEGDTLVNRIELKGIDFKEDGNILGHKLEYNYNSHNVYITADKQKNGIKANFKIRHNIEDGSVQLADHYQQNTPIGDGPVLLPDNHYLSTQSALSKDPNEKRDHMVLLEFVTAAGI\n",
      "___________________________________________________________T__TYG____________________________R_____________________________________________________________________________________________________________________________E_______\n",
      "_______________________________________________________✔✔✔✔✔✔✔✔✔✔✔✔✔✔✔_______________________✔_____________________________________________________________________________________________________________________________✔_________\n"
     ]
    }
   ],
   "source": [
    "prompt_sequence = [\"_\"] * len(template_gfp.sequence)\n",
    "prompt_sequence[59] = \"T\"\n",
    "prompt_sequence[62] = \"T\"\n",
    "prompt_sequence[63] = \"Y\"\n",
    "prompt_sequence[64] = \"G\"\n",
    "prompt_sequence[93] = \"R\"\n",
    "prompt_sequence[219] = \"E\"\n",
    "prompt_sequence = \"\".join(prompt_sequence)\n",
    "\n",
    "print(template_gfp.sequence)\n",
    "print(prompt_sequence)\n",
    "\n",
    "prompt = model.encode(\n",
    "    ESMProtein(sequence=prompt_sequence)\n",
    ")\n",
    "\n",
    "# We construct an empty structure track like |<bos> <mask> ... <mask> <eos>|...\n",
    "prompt.structure = torch.full_like(prompt.sequence, 4096)\n",
    "prompt.structure[0] = 4098\n",
    "prompt.structure[-1] = 4097\n",
    "# ... and then we fill in structure tokens at key residues near the alpha helix\n",
    "# kink and at the stabilizing R and E positions on the beta barrel.\n",
    "prompt.structure[55:70] = template_gfp_tokens.structure[56:71]\n",
    "prompt.structure[93] = template_gfp_tokens.structure[93]\n",
    "prompt.structure[219] = template_gfp_tokens.structure[219]\n",
    "\n",
    "print(\"\".join([\"✔\" if st < 4096 else \"_\" for st in prompt.structure]))"
   ]
  },
  {
   "cell_type": "code",
   "execution_count": 8,
   "id": "d0a33bd9-d13d-427f-b0b2-b556387ce5d1",
   "metadata": {
    "tags": []
   },
   "outputs": [
    {
     "name": "stderr",
     "output_type": "stream",
     "text": [
      "100%|██████████| 210/210 [00:09<00:00, 21.50it/s]\n",
      "/global/cfs/cdirs/m4734/users/vidyagan/esm_env/lib/python3.12/site-packages/esm/pretrained.py:39: FutureWarning: You are using `torch.load` with `weights_only=False` (the current default value), which uses the default pickle module implicitly. It is possible to construct malicious pickle data which will execute arbitrary code during unpickling (See https://github.com/pytorch/pytorch/blob/main/SECURITY.md#untrusted-models for more details). In a future release, the default value for `weights_only` will be flipped to `True`. This limits the functions that could be executed during unpickling. Arbitrary objects will no longer be allowed to be loaded via this mode unless they are explicitly allowlisted by the user via `torch.serialization.add_safe_globals`. We recommend you start setting `weights_only=True` for any use case where you don't have full control of the loaded file. Please open an issue on GitHub for any issues related to this experimental feature.\n",
      "  state_dict = torch.load(\n"
     ]
    },
    {
     "name": "stdout",
     "output_type": "stream",
     "text": [
      "These are the structure tokens corresponding to our new design:\n",
      "     4098, 3715, 1046, 3452, 1599, 1360, 385, 2835, 1716, 3320, 4005, 3153, 808, 2780, 808, 705, 2746, 845, 681, 3161, 2407, 2416, 3046, 231, 1319, 598, 3638, 1903, 1, 2171, 1218, 1047, 2693, 1595, 903, 1349, 2490, 1537, 1502, 1803, 1825, 1634, 2513, 3598, 128, 3903, 3926, 232, 3384, 3295, 3803, 2453, 1067, 588, 1053, 1774, 732, 1797, 748, 3403, 2370, 2582, 3704, 2737, 3007, 1660, 499, 484, 2202, 2786, 1400, 2618, 2809, 3059, 3328, 2572, 1853, 3453, 3629, 1940, 748, 4043, 1552, 2138, 86, 3135, 686, 3512, 659, 111, 4018, 2965, 1383, 1066, 3182, 2547, 3585, 1726, 3148, 1416, 3652, 1364, 981, 2995, 1867, 3421, 2078, 3729, 2693, 3607, 2159, 2942, 1998, 880, 4008, 1275, 753, 1165, 306, 2247, 2963, 37, 4079, 26, 145, 1186, 3808, 2224, 767, 197, 3554, 3560, 521, 4032, 69, 1646, 1046, 2930, 3089, 3697, 1912, 2507, 4055, 1853, 2857, 318, 216, 3586, 699, 824, 987, 598, 3101, 2056, 2048, 1476, 1195, 1035, 3205, 2103, 3954, 2874, 532, 1320, 3395, 373, 1853, 1076, 1322, 3586, 1326, 315, 341, 659, 4084, 3812, 2887, 1169, 1106, 2964, 1758, 2979, 2425, 1771, 3960, 3775, 3148, 1412, 1786, 45, 1757, 2902, 2676, 4084, 2289, 2961, 1928, 3269, 1616, 3308, 3126, 363, 2867, 129, 208, 3058, 938, 1983, 540, 31, 2010, 3254, 3343, 3330, 2884, 3214, 1439, 2950, 1880, 2943, 1223, 1111, 3205, 322, 2990, 1908, 1192, 3518, 4097\n"
     ]
    },
    {
     "name": "stderr",
     "output_type": "stream",
     "text": [
      "/global/cfs/cdirs/m4734/users/vidyagan/esm_env/lib/python3.12/site-packages/esm/pretrained.py:49: FutureWarning: You are using `torch.load` with `weights_only=False` (the current default value), which uses the default pickle module implicitly. It is possible to construct malicious pickle data which will execute arbitrary code during unpickling (See https://github.com/pytorch/pytorch/blob/main/SECURITY.md#untrusted-models for more details). In a future release, the default value for `weights_only` will be flipped to `True`. This limits the functions that could be executed during unpickling. Arbitrary objects will no longer be allowed to be loaded via this mode unless they are explicitly allowlisted by the user via `torch.serialization.add_safe_globals`. We recommend you start setting `weights_only=True` for any use case where you don't have full control of the loaded file. Please open an issue on GitHub for any issues related to this experimental feature.\n",
      "  state_dict = torch.load(\n"
     ]
    },
    {
     "name": "stdout",
     "output_type": "stream",
     "text": [
      "\n",
      "CPU times: user 10.1 s, sys: 192 ms, total: 10.3 s\n",
      "Wall time: 17.5 s\n"
     ]
    }
   ],
   "source": [
    "%%time\n",
    "\n",
    "num_tokens_to_decode = (prompt.structure == 4096).sum().item()\n",
    "\n",
    "structure_generation = model.generate(\n",
    "    prompt,\n",
    "    GenerationConfig(\n",
    "        # Generate a structure.\n",
    "        track=\"structure\",\n",
    "        # Sample one token per forward pass of the model.\n",
    "        num_steps=num_tokens_to_decode,\n",
    "        # Sampling temperature trades perplexity with diversity.\n",
    "        temperature=1.0,\n",
    "    )\n",
    ")\n",
    "\n",
    "print(\"These are the structure tokens corresponding to our new design:\")\n",
    "print(\"    \", \", \".join([\n",
    "    str(token) for token in structure_generation.structure.tolist()\n",
    "]))\n",
    "\n",
    "# Decodes structure tokens to backbone coordinates.\n",
    "structure_generation_protein = model.decode(structure_generation)\n",
    "\n",
    "print(\"\")"
   ]
  },
  {
   "cell_type": "code",
   "execution_count": null,
   "id": "5166a48f-0440-4ec4-9375-4b4eac273ebf",
   "metadata": {},
   "outputs": [],
   "source": [
    "view = py3Dmol.view(width=1000, height=500)\n",
    "view.addModel(structure_generation_protein.to_protein_chain().infer_oxygen().to_pdb_string(), \"pdb\")\n",
    "view.setStyle({\"cartoon\": {\"color\": \"lightgreen\"}})\n",
    "view.zoomTo()\n",
    "view.show()"
   ]
  },
  {
   "cell_type": "code",
   "execution_count": null,
   "id": "b23f7c40",
   "metadata": {},
   "outputs": [],
   "source": [
    "constrained_site_positions = [59, 62, 63, 64, 93, 219]\n",
    "\n",
    "template_chain = template_gfp.to_protein_chain()\n",
    "generation_chain = structure_generation_protein.to_protein_chain()\n",
    "\n",
    "constrained_site_rmsd = template_chain[constrained_site_positions].rmsd(\n",
    "    generation_chain[constrained_site_positions]\n",
    ")\n",
    "backbone_rmsd = template_chain.rmsd(generation_chain)\n",
    "\n",
    "c_pass = \"✅\" if constrained_site_rmsd < 1.5 else \"❌\"\n",
    "b_pass = \"✅\" if backbone_rmsd > 1.5 else \"❌\"\n",
    "\n",
    "print(f\"Constrained site RMSD: {constrained_site_rmsd:.2f} Ang {c_pass}\")\n",
    "print(f\"Backbone RMSD: {backbone_rmsd:.2f} Ang {b_pass}\")"
   ]
  },
  {
   "cell_type": "code",
   "execution_count": null,
   "id": "095d7786",
   "metadata": {},
   "outputs": [],
   "source": [
    "%%time\n",
    "\n",
    "num_tokens_to_decode = (prompt.sequence == 32).sum().item()\n",
    "\n",
    "sequence_generation = model.generate(\n",
    "    # Generate a sequence.\n",
    "    structure_generation,\n",
    "    GenerationConfig(\n",
    "        track=\"sequence\",\n",
    "        num_steps=num_tokens_to_decode,\n",
    "        temperature=1.0,\n",
    "    )\n",
    ")\n",
    "\n",
    "# Refold\n",
    "sequence_generation.structure = None\n",
    "length_of_sequence = sequence_generation.sequence.numel() - 2\n",
    "sequence_generation = model.generate(\n",
    "    sequence_generation,\n",
    "    GenerationConfig(\n",
    "        track=\"structure\",\n",
    "        num_steps=length_of_sequence,\n",
    "        temperature=0.0,\n",
    "    )\n",
    ")\n",
    "\n",
    "# Decode to AA string and coordinates.\n",
    "sequence_generation_protein = model.decode(sequence_generation)"
   ]
  },
  {
   "cell_type": "code",
   "execution_count": null,
   "id": "8f483ec7",
   "metadata": {},
   "outputs": [],
   "source": [
    "sequence_generation_protein.sequence"
   ]
  },
  {
   "cell_type": "code",
   "execution_count": null,
   "id": "55180669",
   "metadata": {},
   "outputs": [],
   "source": [
    "seq1 = seq.ProteinSequence(template_gfp.sequence)\n",
    "seq2 = seq.ProteinSequence(sequence_generation_protein.sequence)\n",
    "\n",
    "alignments = align.align_optimal(\n",
    "    seq1,\n",
    "    seq2,\n",
    "    align.SubstitutionMatrix.std_protein_matrix(),\n",
    "    gap_penalty=(-10, -1),\n",
    ")\n",
    "\n",
    "alignment = alignments[0]\n",
    "\n",
    "identity = align.get_sequence_identity(alignment)\n",
    "print(f\"Sequence identity: {100*identity:.2f}%\")\n",
    "\n",
    "print(\"\\nSequence alignment:\")\n",
    "fig = pl.figure(figsize=(8.0, 4.0))\n",
    "ax = fig.add_subplot(111)\n",
    "graphics.plot_alignment_similarity_based(\n",
    "    ax, alignment, symbols_per_line=45, spacing=2,\n",
    "    show_numbers=True,\n",
    ")\n",
    "fig.tight_layout()\n",
    "pl.show()"
   ]
  },
  {
   "cell_type": "code",
   "execution_count": null,
   "id": "9519c73d",
   "metadata": {},
   "outputs": [],
   "source": []
  }
 ],
 "metadata": {
  "kernelspec": {
   "display_name": "ESM3",
   "language": "python",
   "name": "esm_env"
  },
  "language_info": {
   "codemirror_mode": {
    "name": "ipython",
    "version": 3
   },
   "file_extension": ".py",
   "mimetype": "text/x-python",
   "name": "python",
   "nbconvert_exporter": "python",
   "pygments_lexer": "ipython3",
   "version": "3.12.6"
  }
 },
 "nbformat": 4,
 "nbformat_minor": 5
}
